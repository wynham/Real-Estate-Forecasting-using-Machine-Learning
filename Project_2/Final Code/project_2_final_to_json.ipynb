{
  "nbformat": 4,
  "nbformat_minor": 0,
  "metadata": {
    "colab": {
      "name": "project_2_final_to_json",
      "provenance": []
    },
    "kernelspec": {
      "name": "python3",
      "display_name": "Python 3"
    },
    "language_info": {
      "name": "python"
    }
  },
  "cells": [
    {
      "cell_type": "markdown",
      "metadata": {
        "id": "75kLRvV0UuXf"
      },
      "source": [
        "**Step 1: Install and Import Libraries**"
      ]
    },
    {
      "cell_type": "code",
      "metadata": {
        "colab": {
          "base_uri": "https://localhost:8080/"
        },
        "id": "hoON9nRcUwoI",
        "outputId": "858b2f95-f256-4d03-f837-2d098713df95"
      },
      "source": [
        "# Install the required libraries\n",
        "from IPython.display import clear_output\n",
        "try:\n",
        "  !pip install pystan\n",
        "  !pip install fbprophet\n",
        "except:\n",
        "  print(\"Error installing libraries\")\n",
        "finally:\n",
        "  clear_output()\n",
        "  print('Libraries successfully installed')"
      ],
      "execution_count": null,
      "outputs": [
        {
          "output_type": "stream",
          "text": [
            "Libraries successfully installed\n"
          ],
          "name": "stdout"
        }
      ]
    },
    {
      "cell_type": "code",
      "metadata": {
        "id": "GbbEvnLsU1lS"
      },
      "source": [
        "# Import the required libraries and dependencies\n",
        "import pandas as pd\n",
        "from fbprophet import Prophet\n",
        "import datetime as dt\n",
        "import json"
      ],
      "execution_count": null,
      "outputs": []
    },
    {
      "cell_type": "markdown",
      "metadata": {
        "id": "_NTp4-9pVKio"
      },
      "source": [
        "**Step 2: Read in and prep data**"
      ]
    },
    {
      "cell_type": "code",
      "metadata": {
        "colab": {
          "resources": {
            "http://localhost:8080/nbextensions/google.colab/files.js": {
              "data": "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",
              "ok": true,
              "headers": [
                [
                  "content-type",
                  "application/javascript"
                ]
              ],
              "status": 200,
              "status_text": ""
            }
          },
          "base_uri": "https://localhost:8080/",
          "height": 72
        },
        "id": "SrOldfBmU5S0",
        "outputId": "43d3d3a6-131f-4550-a1d6-8e4e380b9d14"
      },
      "source": [
        "# Upload Zillow CSV data\n",
        "from google.colab import files\n",
        "uploaded = files.upload()\n",
        "df_zillow = pd.read_csv(\"Metro_zhvi.csv\")"
      ],
      "execution_count": null,
      "outputs": [
        {
          "output_type": "display_data",
          "data": {
            "text/html": [
              "\n",
              "     <input type=\"file\" id=\"files-92db978a-95a2-4eac-bdda-aeecb37b2c42\" name=\"files[]\" multiple disabled\n",
              "        style=\"border:none\" />\n",
              "     <output id=\"result-92db978a-95a2-4eac-bdda-aeecb37b2c42\">\n",
              "      Upload widget is only available when the cell has been executed in the\n",
              "      current browser session. Please rerun this cell to enable.\n",
              "      </output>\n",
              "      <script src=\"/nbextensions/google.colab/files.js\"></script> "
            ],
            "text/plain": [
              "<IPython.core.display.HTML object>"
            ]
          },
          "metadata": {
            "tags": []
          }
        },
        {
          "output_type": "stream",
          "text": [
            "Saving Metro_zhvi.csv to Metro_zhvi.csv\n"
          ],
          "name": "stdout"
        }
      ]
    },
    {
      "cell_type": "code",
      "metadata": {
        "colab": {
          "base_uri": "https://localhost:8080/",
          "height": 524
        },
        "id": "h00O5TuNVQZ4",
        "outputId": "cae58c9e-0393-48cc-a599-cd0cadfd3982"
      },
      "source": [
        "# Clean the Dataframe\n",
        "top100_values = df_zillow[df_zillow['SizeRank'] < 100]\n",
        "# Set Index to region name\n",
        "top100_values = top100_values.set_index('RegionName')\n",
        "# Drop Columns we don't need\n",
        "top100_values = top100_values.drop(columns=['RegionID','SizeRank','RegionType','StateName'])\n",
        "# Transpose the Dataframe\n",
        "new_df = top100_values.T\n",
        "# Preview Dataframe\n",
        "new_df"
      ],
      "execution_count": null,
      "outputs": [
        {
          "output_type": "execute_result",
          "data": {
            "text/html": [
              "<div>\n",
              "<style scoped>\n",
              "    .dataframe tbody tr th:only-of-type {\n",
              "        vertical-align: middle;\n",
              "    }\n",
              "\n",
              "    .dataframe tbody tr th {\n",
              "        vertical-align: top;\n",
              "    }\n",
              "\n",
              "    .dataframe thead th {\n",
              "        text-align: right;\n",
              "    }\n",
              "</style>\n",
              "<table border=\"1\" class=\"dataframe\">\n",
              "  <thead>\n",
              "    <tr style=\"text-align: right;\">\n",
              "      <th>RegionName</th>\n",
              "      <th>United States</th>\n",
              "      <th>New York, NY</th>\n",
              "      <th>Los Angeles-Long Beach-Anaheim, CA</th>\n",
              "      <th>Chicago, IL</th>\n",
              "      <th>Dallas-Fort Worth, TX</th>\n",
              "      <th>Philadelphia, PA</th>\n",
              "      <th>Houston, TX</th>\n",
              "      <th>Washington, DC</th>\n",
              "      <th>Miami-Fort Lauderdale, FL</th>\n",
              "      <th>Atlanta, GA</th>\n",
              "      <th>Boston, MA</th>\n",
              "      <th>San Francisco, CA</th>\n",
              "      <th>Detroit, MI</th>\n",
              "      <th>Riverside, CA</th>\n",
              "      <th>Phoenix, AZ</th>\n",
              "      <th>Seattle, WA</th>\n",
              "      <th>Minneapolis-St Paul, MN</th>\n",
              "      <th>San Diego, CA</th>\n",
              "      <th>St. Louis, MO</th>\n",
              "      <th>Tampa, FL</th>\n",
              "      <th>Baltimore, MD</th>\n",
              "      <th>Denver, CO</th>\n",
              "      <th>Pittsburgh, PA</th>\n",
              "      <th>Portland, OR</th>\n",
              "      <th>Charlotte, NC</th>\n",
              "      <th>Sacramento, CA</th>\n",
              "      <th>San Antonio, TX</th>\n",
              "      <th>Orlando, FL</th>\n",
              "      <th>Cincinnati, OH</th>\n",
              "      <th>Cleveland, OH</th>\n",
              "      <th>Kansas City, MO</th>\n",
              "      <th>Las Vegas, NV</th>\n",
              "      <th>Columbus, OH</th>\n",
              "      <th>Indianapolis, IN</th>\n",
              "      <th>San Jose, CA</th>\n",
              "      <th>Austin, TX</th>\n",
              "      <th>Virginia Beach, VA</th>\n",
              "      <th>Nashville, TN</th>\n",
              "      <th>Providence, RI</th>\n",
              "      <th>Milwaukee, WI</th>\n",
              "      <th>...</th>\n",
              "      <th>Albany, NY</th>\n",
              "      <th>Omaha, NE</th>\n",
              "      <th>New Haven, CT</th>\n",
              "      <th>Bakersfield, CA</th>\n",
              "      <th>Knoxville, TN</th>\n",
              "      <th>Greenville, SC</th>\n",
              "      <th>Ventura, CA</th>\n",
              "      <th>Allentown, PA</th>\n",
              "      <th>El Paso, TX</th>\n",
              "      <th>Baton Rouge, LA</th>\n",
              "      <th>Dayton, OH</th>\n",
              "      <th>McAllen, TX</th>\n",
              "      <th>Columbia, SC</th>\n",
              "      <th>Greensboro, NC</th>\n",
              "      <th>Akron, OH</th>\n",
              "      <th>North Port-Sarasota-Bradenton, FL</th>\n",
              "      <th>Little Rock, AR</th>\n",
              "      <th>Stockton, CA</th>\n",
              "      <th>Charleston, SC</th>\n",
              "      <th>Syracuse, NY</th>\n",
              "      <th>Colorado Springs, CO</th>\n",
              "      <th>Winston-Salem, NC</th>\n",
              "      <th>Wichita, KS</th>\n",
              "      <th>Springfield, MA</th>\n",
              "      <th>Fort Myers, FL</th>\n",
              "      <th>Boise City, ID</th>\n",
              "      <th>Toledo, OH</th>\n",
              "      <th>Madison, WI</th>\n",
              "      <th>Lakeland, FL</th>\n",
              "      <th>Ogden, UT</th>\n",
              "      <th>Daytona Beach, FL</th>\n",
              "      <th>Des Moines, IA</th>\n",
              "      <th>Jackson, MS</th>\n",
              "      <th>Youngstown, OH</th>\n",
              "      <th>Augusta, GA</th>\n",
              "      <th>Scranton, PA</th>\n",
              "      <th>Harrisburg, PA</th>\n",
              "      <th>Melbourne, FL</th>\n",
              "      <th>Chattanooga, TN</th>\n",
              "      <th>Spokane, WA</th>\n",
              "    </tr>\n",
              "  </thead>\n",
              "  <tbody>\n",
              "    <tr>\n",
              "      <th>1996-01-31</th>\n",
              "      <td>106948.0</td>\n",
              "      <td>187450.0</td>\n",
              "      <td>187876.0</td>\n",
              "      <td>163550.0</td>\n",
              "      <td>111771.0</td>\n",
              "      <td>120512.0</td>\n",
              "      <td>108962.0</td>\n",
              "      <td>180220.0</td>\n",
              "      <td>111204.0</td>\n",
              "      <td>121243.0</td>\n",
              "      <td>166819.0</td>\n",
              "      <td>254627.0</td>\n",
              "      <td>104061.0</td>\n",
              "      <td>123469.0</td>\n",
              "      <td>114162.0</td>\n",
              "      <td>167132.0</td>\n",
              "      <td>119653.0</td>\n",
              "      <td>182195.0</td>\n",
              "      <td>97196.0</td>\n",
              "      <td>89117.0</td>\n",
              "      <td>143036.0</td>\n",
              "      <td>146434.0</td>\n",
              "      <td>79114.0</td>\n",
              "      <td>145390.0</td>\n",
              "      <td>121261.0</td>\n",
              "      <td>149611.0</td>\n",
              "      <td>107341.0</td>\n",
              "      <td>105829.0</td>\n",
              "      <td>109796.0</td>\n",
              "      <td>109618.0</td>\n",
              "      <td>97154.0</td>\n",
              "      <td>152007.0</td>\n",
              "      <td>112449.0</td>\n",
              "      <td>NaN</td>\n",
              "      <td>254137.0</td>\n",
              "      <td>174990.0</td>\n",
              "      <td>115963.0</td>\n",
              "      <td>115807.0</td>\n",
              "      <td>132042.0</td>\n",
              "      <td>102089.0</td>\n",
              "      <td>...</td>\n",
              "      <td>105876.0</td>\n",
              "      <td>99468.0</td>\n",
              "      <td>131035.0</td>\n",
              "      <td>117843.0</td>\n",
              "      <td>91596.0</td>\n",
              "      <td>107611.0</td>\n",
              "      <td>202562.0</td>\n",
              "      <td>106504.0</td>\n",
              "      <td>87573.0</td>\n",
              "      <td>NaN</td>\n",
              "      <td>92016.0</td>\n",
              "      <td>NaN</td>\n",
              "      <td>98745.0</td>\n",
              "      <td>94961.0</td>\n",
              "      <td>97484.0</td>\n",
              "      <td>119658.0</td>\n",
              "      <td>86021.0</td>\n",
              "      <td>116873.0</td>\n",
              "      <td>109292.0</td>\n",
              "      <td>81298.0</td>\n",
              "      <td>131598.0</td>\n",
              "      <td>91005.0</td>\n",
              "      <td>NaN</td>\n",
              "      <td>110489.0</td>\n",
              "      <td>121468.0</td>\n",
              "      <td>NaN</td>\n",
              "      <td>78040.0</td>\n",
              "      <td>126822.0</td>\n",
              "      <td>86759.0</td>\n",
              "      <td>146079.0</td>\n",
              "      <td>95041.0</td>\n",
              "      <td>105430.0</td>\n",
              "      <td>NaN</td>\n",
              "      <td>71977.0</td>\n",
              "      <td>85109.0</td>\n",
              "      <td>76886.0</td>\n",
              "      <td>103878.0</td>\n",
              "      <td>97610.0</td>\n",
              "      <td>83193.0</td>\n",
              "      <td>121698.0</td>\n",
              "    </tr>\n",
              "    <tr>\n",
              "      <th>1996-02-29</th>\n",
              "      <td>106975.0</td>\n",
              "      <td>187013.0</td>\n",
              "      <td>188138.0</td>\n",
              "      <td>163249.0</td>\n",
              "      <td>111834.0</td>\n",
              "      <td>120357.0</td>\n",
              "      <td>109037.0</td>\n",
              "      <td>179995.0</td>\n",
              "      <td>111336.0</td>\n",
              "      <td>121474.0</td>\n",
              "      <td>166813.0</td>\n",
              "      <td>253770.0</td>\n",
              "      <td>104436.0</td>\n",
              "      <td>122964.0</td>\n",
              "      <td>114481.0</td>\n",
              "      <td>167098.0</td>\n",
              "      <td>119420.0</td>\n",
              "      <td>181841.0</td>\n",
              "      <td>97517.0</td>\n",
              "      <td>89142.0</td>\n",
              "      <td>143193.0</td>\n",
              "      <td>146982.0</td>\n",
              "      <td>79110.0</td>\n",
              "      <td>145998.0</td>\n",
              "      <td>121458.0</td>\n",
              "      <td>149077.0</td>\n",
              "      <td>107293.0</td>\n",
              "      <td>105915.0</td>\n",
              "      <td>109894.0</td>\n",
              "      <td>109752.0</td>\n",
              "      <td>97355.0</td>\n",
              "      <td>151868.0</td>\n",
              "      <td>112594.0</td>\n",
              "      <td>NaN</td>\n",
              "      <td>253475.0</td>\n",
              "      <td>174103.0</td>\n",
              "      <td>115878.0</td>\n",
              "      <td>116150.0</td>\n",
              "      <td>132034.0</td>\n",
              "      <td>102281.0</td>\n",
              "      <td>...</td>\n",
              "      <td>105533.0</td>\n",
              "      <td>99984.0</td>\n",
              "      <td>131169.0</td>\n",
              "      <td>117391.0</td>\n",
              "      <td>91787.0</td>\n",
              "      <td>107933.0</td>\n",
              "      <td>201886.0</td>\n",
              "      <td>106457.0</td>\n",
              "      <td>87485.0</td>\n",
              "      <td>NaN</td>\n",
              "      <td>92126.0</td>\n",
              "      <td>NaN</td>\n",
              "      <td>98833.0</td>\n",
              "      <td>95145.0</td>\n",
              "      <td>97664.0</td>\n",
              "      <td>119734.0</td>\n",
              "      <td>86279.0</td>\n",
              "      <td>116457.0</td>\n",
              "      <td>109345.0</td>\n",
              "      <td>81078.0</td>\n",
              "      <td>132052.0</td>\n",
              "      <td>91358.0</td>\n",
              "      <td>NaN</td>\n",
              "      <td>110569.0</td>\n",
              "      <td>121491.0</td>\n",
              "      <td>NaN</td>\n",
              "      <td>78047.0</td>\n",
              "      <td>127149.0</td>\n",
              "      <td>87086.0</td>\n",
              "      <td>146802.0</td>\n",
              "      <td>95146.0</td>\n",
              "      <td>105739.0</td>\n",
              "      <td>NaN</td>\n",
              "      <td>72019.0</td>\n",
              "      <td>85087.0</td>\n",
              "      <td>76854.0</td>\n",
              "      <td>103960.0</td>\n",
              "      <td>97629.0</td>\n",
              "      <td>83319.0</td>\n",
              "      <td>121624.0</td>\n",
              "    </tr>\n",
              "    <tr>\n",
              "      <th>1996-03-31</th>\n",
              "      <td>107025.0</td>\n",
              "      <td>186734.0</td>\n",
              "      <td>188158.0</td>\n",
              "      <td>162853.0</td>\n",
              "      <td>111994.0</td>\n",
              "      <td>120218.0</td>\n",
              "      <td>109045.0</td>\n",
              "      <td>179862.0</td>\n",
              "      <td>111476.0</td>\n",
              "      <td>121697.0</td>\n",
              "      <td>166985.0</td>\n",
              "      <td>253357.0</td>\n",
              "      <td>104797.0</td>\n",
              "      <td>122651.0</td>\n",
              "      <td>114844.0</td>\n",
              "      <td>167095.0</td>\n",
              "      <td>119313.0</td>\n",
              "      <td>181647.0</td>\n",
              "      <td>97739.0</td>\n",
              "      <td>89153.0</td>\n",
              "      <td>143250.0</td>\n",
              "      <td>147406.0</td>\n",
              "      <td>79101.0</td>\n",
              "      <td>146515.0</td>\n",
              "      <td>121674.0</td>\n",
              "      <td>148776.0</td>\n",
              "      <td>107244.0</td>\n",
              "      <td>106063.0</td>\n",
              "      <td>109964.0</td>\n",
              "      <td>109886.0</td>\n",
              "      <td>97584.0</td>\n",
              "      <td>151960.0</td>\n",
              "      <td>112794.0</td>\n",
              "      <td>NaN</td>\n",
              "      <td>253241.0</td>\n",
              "      <td>172829.0</td>\n",
              "      <td>115894.0</td>\n",
              "      <td>116540.0</td>\n",
              "      <td>132032.0</td>\n",
              "      <td>102352.0</td>\n",
              "      <td>...</td>\n",
              "      <td>105295.0</td>\n",
              "      <td>100250.0</td>\n",
              "      <td>131334.0</td>\n",
              "      <td>116912.0</td>\n",
              "      <td>92000.0</td>\n",
              "      <td>108216.0</td>\n",
              "      <td>201502.0</td>\n",
              "      <td>106494.0</td>\n",
              "      <td>87464.0</td>\n",
              "      <td>NaN</td>\n",
              "      <td>92381.0</td>\n",
              "      <td>NaN</td>\n",
              "      <td>98891.0</td>\n",
              "      <td>95362.0</td>\n",
              "      <td>97832.0</td>\n",
              "      <td>119837.0</td>\n",
              "      <td>86571.0</td>\n",
              "      <td>116207.0</td>\n",
              "      <td>109289.0</td>\n",
              "      <td>80940.0</td>\n",
              "      <td>132483.0</td>\n",
              "      <td>91606.0</td>\n",
              "      <td>NaN</td>\n",
              "      <td>110716.0</td>\n",
              "      <td>121504.0</td>\n",
              "      <td>NaN</td>\n",
              "      <td>78120.0</td>\n",
              "      <td>127388.0</td>\n",
              "      <td>87323.0</td>\n",
              "      <td>147345.0</td>\n",
              "      <td>95262.0</td>\n",
              "      <td>105992.0</td>\n",
              "      <td>NaN</td>\n",
              "      <td>72094.0</td>\n",
              "      <td>85064.0</td>\n",
              "      <td>76734.0</td>\n",
              "      <td>103985.0</td>\n",
              "      <td>97781.0</td>\n",
              "      <td>83521.0</td>\n",
              "      <td>121458.0</td>\n",
              "    </tr>\n",
              "    <tr>\n",
              "      <th>1996-04-30</th>\n",
              "      <td>107151.0</td>\n",
              "      <td>186202.0</td>\n",
              "      <td>188268.0</td>\n",
              "      <td>162403.0</td>\n",
              "      <td>112314.0</td>\n",
              "      <td>119974.0</td>\n",
              "      <td>109192.0</td>\n",
              "      <td>179585.0</td>\n",
              "      <td>111727.0</td>\n",
              "      <td>122190.0</td>\n",
              "      <td>167260.0</td>\n",
              "      <td>252591.0</td>\n",
              "      <td>105574.0</td>\n",
              "      <td>121979.0</td>\n",
              "      <td>115543.0</td>\n",
              "      <td>167104.0</td>\n",
              "      <td>119190.0</td>\n",
              "      <td>181239.0</td>\n",
              "      <td>98180.0</td>\n",
              "      <td>89259.0</td>\n",
              "      <td>143458.0</td>\n",
              "      <td>148214.0</td>\n",
              "      <td>79087.0</td>\n",
              "      <td>147578.0</td>\n",
              "      <td>122143.0</td>\n",
              "      <td>148159.0</td>\n",
              "      <td>107209.0</td>\n",
              "      <td>106292.0</td>\n",
              "      <td>110161.0</td>\n",
              "      <td>110162.0</td>\n",
              "      <td>98019.0</td>\n",
              "      <td>151945.0</td>\n",
              "      <td>113186.0</td>\n",
              "      <td>NaN</td>\n",
              "      <td>252867.0</td>\n",
              "      <td>171016.0</td>\n",
              "      <td>115847.0</td>\n",
              "      <td>117300.0</td>\n",
              "      <td>131988.0</td>\n",
              "      <td>102692.0</td>\n",
              "      <td>...</td>\n",
              "      <td>104909.0</td>\n",
              "      <td>100887.0</td>\n",
              "      <td>131517.0</td>\n",
              "      <td>116145.0</td>\n",
              "      <td>92405.0</td>\n",
              "      <td>108717.0</td>\n",
              "      <td>200670.0</td>\n",
              "      <td>106529.0</td>\n",
              "      <td>87434.0</td>\n",
              "      <td>NaN</td>\n",
              "      <td>92899.0</td>\n",
              "      <td>NaN</td>\n",
              "      <td>99044.0</td>\n",
              "      <td>95758.0</td>\n",
              "      <td>98197.0</td>\n",
              "      <td>120048.0</td>\n",
              "      <td>87002.0</td>\n",
              "      <td>115666.0</td>\n",
              "      <td>109519.0</td>\n",
              "      <td>80683.0</td>\n",
              "      <td>133457.0</td>\n",
              "      <td>92145.0</td>\n",
              "      <td>NaN</td>\n",
              "      <td>110897.0</td>\n",
              "      <td>121557.0</td>\n",
              "      <td>NaN</td>\n",
              "      <td>78248.0</td>\n",
              "      <td>127770.0</td>\n",
              "      <td>87759.0</td>\n",
              "      <td>148426.0</td>\n",
              "      <td>95480.0</td>\n",
              "      <td>106520.0</td>\n",
              "      <td>NaN</td>\n",
              "      <td>72232.0</td>\n",
              "      <td>85074.0</td>\n",
              "      <td>76661.0</td>\n",
              "      <td>104088.0</td>\n",
              "      <td>98018.0</td>\n",
              "      <td>83912.0</td>\n",
              "      <td>121357.0</td>\n",
              "    </tr>\n",
              "    <tr>\n",
              "      <th>1996-05-31</th>\n",
              "      <td>107293.0</td>\n",
              "      <td>185885.0</td>\n",
              "      <td>188241.0</td>\n",
              "      <td>161800.0</td>\n",
              "      <td>112658.0</td>\n",
              "      <td>119810.0</td>\n",
              "      <td>109331.0</td>\n",
              "      <td>179465.0</td>\n",
              "      <td>111945.0</td>\n",
              "      <td>122675.0</td>\n",
              "      <td>167626.0</td>\n",
              "      <td>252258.0</td>\n",
              "      <td>106370.0</td>\n",
              "      <td>121476.0</td>\n",
              "      <td>116226.0</td>\n",
              "      <td>167166.0</td>\n",
              "      <td>119265.0</td>\n",
              "      <td>181052.0</td>\n",
              "      <td>98490.0</td>\n",
              "      <td>89420.0</td>\n",
              "      <td>143632.0</td>\n",
              "      <td>148854.0</td>\n",
              "      <td>79063.0</td>\n",
              "      <td>148619.0</td>\n",
              "      <td>122604.0</td>\n",
              "      <td>147784.0</td>\n",
              "      <td>107120.0</td>\n",
              "      <td>106600.0</td>\n",
              "      <td>110366.0</td>\n",
              "      <td>110405.0</td>\n",
              "      <td>98424.0</td>\n",
              "      <td>152097.0</td>\n",
              "      <td>113653.0</td>\n",
              "      <td>NaN</td>\n",
              "      <td>252932.0</td>\n",
              "      <td>170538.0</td>\n",
              "      <td>115781.0</td>\n",
              "      <td>118071.0</td>\n",
              "      <td>131806.0</td>\n",
              "      <td>103083.0</td>\n",
              "      <td>...</td>\n",
              "      <td>104593.0</td>\n",
              "      <td>101259.0</td>\n",
              "      <td>131625.0</td>\n",
              "      <td>115479.0</td>\n",
              "      <td>92768.0</td>\n",
              "      <td>108895.0</td>\n",
              "      <td>200124.0</td>\n",
              "      <td>106705.0</td>\n",
              "      <td>87533.0</td>\n",
              "      <td>NaN</td>\n",
              "      <td>93549.0</td>\n",
              "      <td>NaN</td>\n",
              "      <td>99181.0</td>\n",
              "      <td>96102.0</td>\n",
              "      <td>98542.0</td>\n",
              "      <td>120264.0</td>\n",
              "      <td>87363.0</td>\n",
              "      <td>115342.0</td>\n",
              "      <td>109852.0</td>\n",
              "      <td>80709.0</td>\n",
              "      <td>134466.0</td>\n",
              "      <td>92543.0</td>\n",
              "      <td>NaN</td>\n",
              "      <td>111046.0</td>\n",
              "      <td>121478.0</td>\n",
              "      <td>NaN</td>\n",
              "      <td>78388.0</td>\n",
              "      <td>128067.0</td>\n",
              "      <td>88083.0</td>\n",
              "      <td>149240.0</td>\n",
              "      <td>95650.0</td>\n",
              "      <td>106937.0</td>\n",
              "      <td>NaN</td>\n",
              "      <td>72371.0</td>\n",
              "      <td>85107.0</td>\n",
              "      <td>76379.0</td>\n",
              "      <td>104136.0</td>\n",
              "      <td>98253.0</td>\n",
              "      <td>84316.0</td>\n",
              "      <td>121238.0</td>\n",
              "    </tr>\n",
              "    <tr>\n",
              "      <th>...</th>\n",
              "      <td>...</td>\n",
              "      <td>...</td>\n",
              "      <td>...</td>\n",
              "      <td>...</td>\n",
              "      <td>...</td>\n",
              "      <td>...</td>\n",
              "      <td>...</td>\n",
              "      <td>...</td>\n",
              "      <td>...</td>\n",
              "      <td>...</td>\n",
              "      <td>...</td>\n",
              "      <td>...</td>\n",
              "      <td>...</td>\n",
              "      <td>...</td>\n",
              "      <td>...</td>\n",
              "      <td>...</td>\n",
              "      <td>...</td>\n",
              "      <td>...</td>\n",
              "      <td>...</td>\n",
              "      <td>...</td>\n",
              "      <td>...</td>\n",
              "      <td>...</td>\n",
              "      <td>...</td>\n",
              "      <td>...</td>\n",
              "      <td>...</td>\n",
              "      <td>...</td>\n",
              "      <td>...</td>\n",
              "      <td>...</td>\n",
              "      <td>...</td>\n",
              "      <td>...</td>\n",
              "      <td>...</td>\n",
              "      <td>...</td>\n",
              "      <td>...</td>\n",
              "      <td>...</td>\n",
              "      <td>...</td>\n",
              "      <td>...</td>\n",
              "      <td>...</td>\n",
              "      <td>...</td>\n",
              "      <td>...</td>\n",
              "      <td>...</td>\n",
              "      <td>...</td>\n",
              "      <td>...</td>\n",
              "      <td>...</td>\n",
              "      <td>...</td>\n",
              "      <td>...</td>\n",
              "      <td>...</td>\n",
              "      <td>...</td>\n",
              "      <td>...</td>\n",
              "      <td>...</td>\n",
              "      <td>...</td>\n",
              "      <td>...</td>\n",
              "      <td>...</td>\n",
              "      <td>...</td>\n",
              "      <td>...</td>\n",
              "      <td>...</td>\n",
              "      <td>...</td>\n",
              "      <td>...</td>\n",
              "      <td>...</td>\n",
              "      <td>...</td>\n",
              "      <td>...</td>\n",
              "      <td>...</td>\n",
              "      <td>...</td>\n",
              "      <td>...</td>\n",
              "      <td>...</td>\n",
              "      <td>...</td>\n",
              "      <td>...</td>\n",
              "      <td>...</td>\n",
              "      <td>...</td>\n",
              "      <td>...</td>\n",
              "      <td>...</td>\n",
              "      <td>...</td>\n",
              "      <td>...</td>\n",
              "      <td>...</td>\n",
              "      <td>...</td>\n",
              "      <td>...</td>\n",
              "      <td>...</td>\n",
              "      <td>...</td>\n",
              "      <td>...</td>\n",
              "      <td>...</td>\n",
              "      <td>...</td>\n",
              "      <td>...</td>\n",
              "    </tr>\n",
              "    <tr>\n",
              "      <th>2020-10-31</th>\n",
              "      <td>261062.0</td>\n",
              "      <td>501301.0</td>\n",
              "      <td>734401.0</td>\n",
              "      <td>253978.0</td>\n",
              "      <td>267474.0</td>\n",
              "      <td>267684.0</td>\n",
              "      <td>226544.0</td>\n",
              "      <td>464475.0</td>\n",
              "      <td>316623.0</td>\n",
              "      <td>257488.0</td>\n",
              "      <td>522603.0</td>\n",
              "      <td>1162671.0</td>\n",
              "      <td>193557.0</td>\n",
              "      <td>416607.0</td>\n",
              "      <td>316190.0</td>\n",
              "      <td>576796.0</td>\n",
              "      <td>312330.0</td>\n",
              "      <td>661426.0</td>\n",
              "      <td>192156.0</td>\n",
              "      <td>246346.0</td>\n",
              "      <td>310109.0</td>\n",
              "      <td>474624.0</td>\n",
              "      <td>172672.0</td>\n",
              "      <td>445887.0</td>\n",
              "      <td>260764.0</td>\n",
              "      <td>464643.0</td>\n",
              "      <td>217182.0</td>\n",
              "      <td>268636.0</td>\n",
              "      <td>200544.0</td>\n",
              "      <td>170281.0</td>\n",
              "      <td>222219.0</td>\n",
              "      <td>310926.0</td>\n",
              "      <td>226628.0</td>\n",
              "      <td>196139.0</td>\n",
              "      <td>1284454.0</td>\n",
              "      <td>384727.0</td>\n",
              "      <td>257444.0</td>\n",
              "      <td>298809.0</td>\n",
              "      <td>343284.0</td>\n",
              "      <td>213275.0</td>\n",
              "      <td>...</td>\n",
              "      <td>215937.0</td>\n",
              "      <td>213177.0</td>\n",
              "      <td>252384.0</td>\n",
              "      <td>250164.0</td>\n",
              "      <td>209443.0</td>\n",
              "      <td>216110.0</td>\n",
              "      <td>637406.0</td>\n",
              "      <td>228280.0</td>\n",
              "      <td>144904.0</td>\n",
              "      <td>194236.0</td>\n",
              "      <td>146756.0</td>\n",
              "      <td>127100.0</td>\n",
              "      <td>169961.0</td>\n",
              "      <td>169366.0</td>\n",
              "      <td>163408.0</td>\n",
              "      <td>293242.0</td>\n",
              "      <td>159885.0</td>\n",
              "      <td>412692.0</td>\n",
              "      <td>289092.0</td>\n",
              "      <td>156653.0</td>\n",
              "      <td>351179.0</td>\n",
              "      <td>172190.0</td>\n",
              "      <td>152567.0</td>\n",
              "      <td>251695.0</td>\n",
              "      <td>250100.0</td>\n",
              "      <td>364756.0</td>\n",
              "      <td>133737.0</td>\n",
              "      <td>301630.0</td>\n",
              "      <td>205534.0</td>\n",
              "      <td>362959.0</td>\n",
              "      <td>233411.0</td>\n",
              "      <td>211812.0</td>\n",
              "      <td>150021.0</td>\n",
              "      <td>106592.0</td>\n",
              "      <td>165347.0</td>\n",
              "      <td>128114.0</td>\n",
              "      <td>201944.0</td>\n",
              "      <td>242775.0</td>\n",
              "      <td>187641.0</td>\n",
              "      <td>311916.0</td>\n",
              "    </tr>\n",
              "    <tr>\n",
              "      <th>2020-11-30</th>\n",
              "      <td>263778.0</td>\n",
              "      <td>506351.0</td>\n",
              "      <td>741356.0</td>\n",
              "      <td>256316.0</td>\n",
              "      <td>269998.0</td>\n",
              "      <td>270798.0</td>\n",
              "      <td>228601.0</td>\n",
              "      <td>468756.0</td>\n",
              "      <td>318768.0</td>\n",
              "      <td>260318.0</td>\n",
              "      <td>528556.0</td>\n",
              "      <td>1172084.0</td>\n",
              "      <td>195994.0</td>\n",
              "      <td>422265.0</td>\n",
              "      <td>321557.0</td>\n",
              "      <td>583841.0</td>\n",
              "      <td>315164.0</td>\n",
              "      <td>671730.0</td>\n",
              "      <td>193964.0</td>\n",
              "      <td>249679.0</td>\n",
              "      <td>313364.0</td>\n",
              "      <td>479745.0</td>\n",
              "      <td>174460.0</td>\n",
              "      <td>450824.0</td>\n",
              "      <td>263276.0</td>\n",
              "      <td>470847.0</td>\n",
              "      <td>219086.0</td>\n",
              "      <td>270669.0</td>\n",
              "      <td>203383.0</td>\n",
              "      <td>172268.0</td>\n",
              "      <td>224800.0</td>\n",
              "      <td>313313.0</td>\n",
              "      <td>229304.0</td>\n",
              "      <td>198319.0</td>\n",
              "      <td>1297180.0</td>\n",
              "      <td>391329.0</td>\n",
              "      <td>259834.0</td>\n",
              "      <td>301461.0</td>\n",
              "      <td>347655.0</td>\n",
              "      <td>215960.0</td>\n",
              "      <td>...</td>\n",
              "      <td>218236.0</td>\n",
              "      <td>215118.0</td>\n",
              "      <td>256795.0</td>\n",
              "      <td>253318.0</td>\n",
              "      <td>212129.0</td>\n",
              "      <td>218154.0</td>\n",
              "      <td>644124.0</td>\n",
              "      <td>231484.0</td>\n",
              "      <td>147012.0</td>\n",
              "      <td>195366.0</td>\n",
              "      <td>148589.0</td>\n",
              "      <td>128559.0</td>\n",
              "      <td>171221.0</td>\n",
              "      <td>171443.0</td>\n",
              "      <td>165292.0</td>\n",
              "      <td>296281.0</td>\n",
              "      <td>160878.0</td>\n",
              "      <td>419548.0</td>\n",
              "      <td>291604.0</td>\n",
              "      <td>158510.0</td>\n",
              "      <td>356422.0</td>\n",
              "      <td>174065.0</td>\n",
              "      <td>154390.0</td>\n",
              "      <td>254702.0</td>\n",
              "      <td>252328.0</td>\n",
              "      <td>374523.0</td>\n",
              "      <td>134973.0</td>\n",
              "      <td>304548.0</td>\n",
              "      <td>207405.0</td>\n",
              "      <td>368151.0</td>\n",
              "      <td>235862.0</td>\n",
              "      <td>213501.0</td>\n",
              "      <td>151381.0</td>\n",
              "      <td>107930.0</td>\n",
              "      <td>167079.0</td>\n",
              "      <td>130308.0</td>\n",
              "      <td>203812.0</td>\n",
              "      <td>244840.0</td>\n",
              "      <td>190592.0</td>\n",
              "      <td>317951.0</td>\n",
              "    </tr>\n",
              "    <tr>\n",
              "      <th>2020-12-31</th>\n",
              "      <td>266596.0</td>\n",
              "      <td>511230.0</td>\n",
              "      <td>748439.0</td>\n",
              "      <td>258626.0</td>\n",
              "      <td>272884.0</td>\n",
              "      <td>274005.0</td>\n",
              "      <td>230749.0</td>\n",
              "      <td>473236.0</td>\n",
              "      <td>321424.0</td>\n",
              "      <td>263409.0</td>\n",
              "      <td>534504.0</td>\n",
              "      <td>1180571.0</td>\n",
              "      <td>198502.0</td>\n",
              "      <td>428019.0</td>\n",
              "      <td>327102.0</td>\n",
              "      <td>589605.0</td>\n",
              "      <td>317882.0</td>\n",
              "      <td>682019.0</td>\n",
              "      <td>195556.0</td>\n",
              "      <td>253287.0</td>\n",
              "      <td>316768.0</td>\n",
              "      <td>485174.0</td>\n",
              "      <td>176151.0</td>\n",
              "      <td>455333.0</td>\n",
              "      <td>266079.0</td>\n",
              "      <td>476965.0</td>\n",
              "      <td>221241.0</td>\n",
              "      <td>272788.0</td>\n",
              "      <td>206295.0</td>\n",
              "      <td>174015.0</td>\n",
              "      <td>227460.0</td>\n",
              "      <td>315325.0</td>\n",
              "      <td>232023.0</td>\n",
              "      <td>200759.0</td>\n",
              "      <td>1311819.0</td>\n",
              "      <td>397633.0</td>\n",
              "      <td>262390.0</td>\n",
              "      <td>304539.0</td>\n",
              "      <td>352514.0</td>\n",
              "      <td>218649.0</td>\n",
              "      <td>...</td>\n",
              "      <td>220762.0</td>\n",
              "      <td>216961.0</td>\n",
              "      <td>261146.0</td>\n",
              "      <td>257159.0</td>\n",
              "      <td>214916.0</td>\n",
              "      <td>220100.0</td>\n",
              "      <td>649434.0</td>\n",
              "      <td>235174.0</td>\n",
              "      <td>148655.0</td>\n",
              "      <td>196081.0</td>\n",
              "      <td>150357.0</td>\n",
              "      <td>129865.0</td>\n",
              "      <td>172545.0</td>\n",
              "      <td>173613.0</td>\n",
              "      <td>167029.0</td>\n",
              "      <td>299359.0</td>\n",
              "      <td>161918.0</td>\n",
              "      <td>426551.0</td>\n",
              "      <td>294218.0</td>\n",
              "      <td>160369.0</td>\n",
              "      <td>361833.0</td>\n",
              "      <td>176209.0</td>\n",
              "      <td>156200.0</td>\n",
              "      <td>257892.0</td>\n",
              "      <td>254957.0</td>\n",
              "      <td>385769.0</td>\n",
              "      <td>135937.0</td>\n",
              "      <td>306781.0</td>\n",
              "      <td>208776.0</td>\n",
              "      <td>374667.0</td>\n",
              "      <td>238418.0</td>\n",
              "      <td>214955.0</td>\n",
              "      <td>152804.0</td>\n",
              "      <td>109814.0</td>\n",
              "      <td>168921.0</td>\n",
              "      <td>132247.0</td>\n",
              "      <td>205929.0</td>\n",
              "      <td>246613.0</td>\n",
              "      <td>193682.0</td>\n",
              "      <td>323793.0</td>\n",
              "    </tr>\n",
              "    <tr>\n",
              "      <th>2021-01-31</th>\n",
              "      <td>269440.0</td>\n",
              "      <td>515876.0</td>\n",
              "      <td>755007.0</td>\n",
              "      <td>260645.0</td>\n",
              "      <td>275201.0</td>\n",
              "      <td>277188.0</td>\n",
              "      <td>233196.0</td>\n",
              "      <td>478098.0</td>\n",
              "      <td>324071.0</td>\n",
              "      <td>266577.0</td>\n",
              "      <td>539709.0</td>\n",
              "      <td>1185921.0</td>\n",
              "      <td>200610.0</td>\n",
              "      <td>434511.0</td>\n",
              "      <td>333514.0</td>\n",
              "      <td>594950.0</td>\n",
              "      <td>320810.0</td>\n",
              "      <td>692547.0</td>\n",
              "      <td>197171.0</td>\n",
              "      <td>257248.0</td>\n",
              "      <td>319788.0</td>\n",
              "      <td>490625.0</td>\n",
              "      <td>178101.0</td>\n",
              "      <td>459786.0</td>\n",
              "      <td>269526.0</td>\n",
              "      <td>482632.0</td>\n",
              "      <td>223398.0</td>\n",
              "      <td>274726.0</td>\n",
              "      <td>208973.0</td>\n",
              "      <td>175697.0</td>\n",
              "      <td>230038.0</td>\n",
              "      <td>317609.0</td>\n",
              "      <td>234634.0</td>\n",
              "      <td>203136.0</td>\n",
              "      <td>1320210.0</td>\n",
              "      <td>402925.0</td>\n",
              "      <td>264743.0</td>\n",
              "      <td>307585.0</td>\n",
              "      <td>357892.0</td>\n",
              "      <td>221583.0</td>\n",
              "      <td>...</td>\n",
              "      <td>223301.0</td>\n",
              "      <td>218668.0</td>\n",
              "      <td>264863.0</td>\n",
              "      <td>260996.0</td>\n",
              "      <td>217710.0</td>\n",
              "      <td>222300.0</td>\n",
              "      <td>656966.0</td>\n",
              "      <td>238482.0</td>\n",
              "      <td>150152.0</td>\n",
              "      <td>196659.0</td>\n",
              "      <td>152368.0</td>\n",
              "      <td>130895.0</td>\n",
              "      <td>174076.0</td>\n",
              "      <td>175641.0</td>\n",
              "      <td>168714.0</td>\n",
              "      <td>302722.0</td>\n",
              "      <td>163237.0</td>\n",
              "      <td>434652.0</td>\n",
              "      <td>296752.0</td>\n",
              "      <td>162329.0</td>\n",
              "      <td>367144.0</td>\n",
              "      <td>178624.0</td>\n",
              "      <td>157926.0</td>\n",
              "      <td>261715.0</td>\n",
              "      <td>257310.0</td>\n",
              "      <td>397959.0</td>\n",
              "      <td>137480.0</td>\n",
              "      <td>309354.0</td>\n",
              "      <td>210613.0</td>\n",
              "      <td>380624.0</td>\n",
              "      <td>240580.0</td>\n",
              "      <td>216551.0</td>\n",
              "      <td>154265.0</td>\n",
              "      <td>111428.0</td>\n",
              "      <td>170853.0</td>\n",
              "      <td>134308.0</td>\n",
              "      <td>207935.0</td>\n",
              "      <td>249128.0</td>\n",
              "      <td>196978.0</td>\n",
              "      <td>328740.0</td>\n",
              "    </tr>\n",
              "    <tr>\n",
              "      <th>2021-02-28</th>\n",
              "      <td>272446.0</td>\n",
              "      <td>520587.0</td>\n",
              "      <td>761635.0</td>\n",
              "      <td>263185.0</td>\n",
              "      <td>278259.0</td>\n",
              "      <td>280522.0</td>\n",
              "      <td>235792.0</td>\n",
              "      <td>483254.0</td>\n",
              "      <td>326457.0</td>\n",
              "      <td>269997.0</td>\n",
              "      <td>545895.0</td>\n",
              "      <td>1192921.0</td>\n",
              "      <td>202879.0</td>\n",
              "      <td>441324.0</td>\n",
              "      <td>339878.0</td>\n",
              "      <td>601735.0</td>\n",
              "      <td>323661.0</td>\n",
              "      <td>702933.0</td>\n",
              "      <td>198709.0</td>\n",
              "      <td>261314.0</td>\n",
              "      <td>323406.0</td>\n",
              "      <td>496944.0</td>\n",
              "      <td>179774.0</td>\n",
              "      <td>464988.0</td>\n",
              "      <td>273202.0</td>\n",
              "      <td>489607.0</td>\n",
              "      <td>225999.0</td>\n",
              "      <td>276596.0</td>\n",
              "      <td>211922.0</td>\n",
              "      <td>177598.0</td>\n",
              "      <td>233102.0</td>\n",
              "      <td>320222.0</td>\n",
              "      <td>237025.0</td>\n",
              "      <td>205859.0</td>\n",
              "      <td>1325899.0</td>\n",
              "      <td>408106.0</td>\n",
              "      <td>267161.0</td>\n",
              "      <td>310812.0</td>\n",
              "      <td>363298.0</td>\n",
              "      <td>224157.0</td>\n",
              "      <td>...</td>\n",
              "      <td>226622.0</td>\n",
              "      <td>221072.0</td>\n",
              "      <td>269132.0</td>\n",
              "      <td>264767.0</td>\n",
              "      <td>220494.0</td>\n",
              "      <td>224877.0</td>\n",
              "      <td>665254.0</td>\n",
              "      <td>242232.0</td>\n",
              "      <td>151751.0</td>\n",
              "      <td>196737.0</td>\n",
              "      <td>154328.0</td>\n",
              "      <td>131910.0</td>\n",
              "      <td>175932.0</td>\n",
              "      <td>177809.0</td>\n",
              "      <td>170098.0</td>\n",
              "      <td>306766.0</td>\n",
              "      <td>164404.0</td>\n",
              "      <td>443194.0</td>\n",
              "      <td>299338.0</td>\n",
              "      <td>164330.0</td>\n",
              "      <td>371677.0</td>\n",
              "      <td>181216.0</td>\n",
              "      <td>159515.0</td>\n",
              "      <td>264529.0</td>\n",
              "      <td>259893.0</td>\n",
              "      <td>410927.0</td>\n",
              "      <td>139089.0</td>\n",
              "      <td>311633.0</td>\n",
              "      <td>212641.0</td>\n",
              "      <td>387977.0</td>\n",
              "      <td>243499.0</td>\n",
              "      <td>218745.0</td>\n",
              "      <td>155402.0</td>\n",
              "      <td>113418.0</td>\n",
              "      <td>172965.0</td>\n",
              "      <td>136138.0</td>\n",
              "      <td>209941.0</td>\n",
              "      <td>251335.0</td>\n",
              "      <td>199585.0</td>\n",
              "      <td>332740.0</td>\n",
              "    </tr>\n",
              "  </tbody>\n",
              "</table>\n",
              "<p>302 rows × 100 columns</p>\n",
              "</div>"
            ],
            "text/plain": [
              "RegionName  United States  New York, NY  ...  Chattanooga, TN  Spokane, WA\n",
              "1996-01-31       106948.0      187450.0  ...          83193.0     121698.0\n",
              "1996-02-29       106975.0      187013.0  ...          83319.0     121624.0\n",
              "1996-03-31       107025.0      186734.0  ...          83521.0     121458.0\n",
              "1996-04-30       107151.0      186202.0  ...          83912.0     121357.0\n",
              "1996-05-31       107293.0      185885.0  ...          84316.0     121238.0\n",
              "...                   ...           ...  ...              ...          ...\n",
              "2020-10-31       261062.0      501301.0  ...         187641.0     311916.0\n",
              "2020-11-30       263778.0      506351.0  ...         190592.0     317951.0\n",
              "2020-12-31       266596.0      511230.0  ...         193682.0     323793.0\n",
              "2021-01-31       269440.0      515876.0  ...         196978.0     328740.0\n",
              "2021-02-28       272446.0      520587.0  ...         199585.0     332740.0\n",
              "\n",
              "[302 rows x 100 columns]"
            ]
          },
          "metadata": {
            "tags": []
          },
          "execution_count": 4
        }
      ]
    },
    {
      "cell_type": "markdown",
      "metadata": {
        "id": "aR5lfcesWvGS"
      },
      "source": [
        "**Step 3: Function for running FBProphet and pulling desired outputs**"
      ]
    },
    {
      "cell_type": "code",
      "metadata": {
        "id": "80Bm8wV2Wt2G"
      },
      "source": [
        "def predict_City(city):\n",
        "  zillow_prophet_df = new_df[[city]].reset_index()\n",
        "  zillow_prophet_df.columns = [\"ds\", \"y\"]\n",
        "  zillow_prophet_df[\"ds\"] = pd.to_datetime(\n",
        "    zillow_prophet_df[\"ds\"],\n",
        "    infer_datetime_format =True,\n",
        "    utc = True\n",
        "  )\n",
        "  zillow_prophet_df.dropna()\n",
        "  zillow_prophet_df['ds'] = zillow_prophet_df['ds'].dt.tz_localize(None)\n",
        "\n",
        "  model_zillow = Prophet()\n",
        "  model_zillow.fit(zillow_prophet_df)\n",
        "  future_property_values = model_zillow.make_future_dataframe(periods=(3650), freq='D')\n",
        "  forecast_property_values = model_zillow.predict(future_property_values)\n",
        "  forecast_property_values_final = forecast_property_values.set_index('ds')\n",
        "  \n",
        "  forecast_property_values_final_clean = forecast_property_values_final[['yhat', 'yhat_lower', 'yhat_upper']].rename(\n",
        "      columns={'yhat':'Most Likely','yhat_lower':'Lowest Price','yhat_upper':'Highest Price'})\n",
        "  price_now = forecast_property_values_final_clean['Most Likely'].loc[\"2020-02\"].mean()\n",
        "  price_in_10 = forecast_property_values_final_clean['Most Likely'].loc[\"2030-02\"].mean()\n",
        "  profit_10year = price_in_10 - price_now\n",
        "\n",
        "\n",
        "\n",
        "\n",
        "  return {\n",
        "    \"price_now\":price_now,\n",
        "    \"price_in_10\":price_in_10,\n",
        "    \"profit_10\":profit_10year\n",
        "}"
      ],
      "execution_count": null,
      "outputs": []
    },
    {
      "cell_type": "markdown",
      "metadata": {
        "id": "Dx2_zTmBXJ4K"
      },
      "source": [
        "**Step 4: Iterate through every city**"
      ]
    },
    {
      "cell_type": "code",
      "metadata": {
        "colab": {
          "base_uri": "https://localhost:8080/"
        },
        "id": "X4icBtfAXXUj",
        "outputId": "89f99fc7-4b74-4bfa-e3f9-dbc990058469"
      },
      "source": [
        "final_dictionary = []\n",
        "for city in new_df.columns:\n",
        "  final_dictionary.append({city:predict_City(city)})\n",
        "  print(city)"
      ],
      "execution_count": null,
      "outputs": [
        {
          "output_type": "stream",
          "text": [
            "INFO:fbprophet:Disabling weekly seasonality. Run prophet with weekly_seasonality=True to override this.\n",
            "INFO:fbprophet:Disabling daily seasonality. Run prophet with daily_seasonality=True to override this.\n",
            "INFO:fbprophet:Disabling weekly seasonality. Run prophet with weekly_seasonality=True to override this.\n",
            "INFO:fbprophet:Disabling daily seasonality. Run prophet with daily_seasonality=True to override this.\n"
          ],
          "name": "stderr"
        },
        {
          "output_type": "stream",
          "text": [
            "United States\n"
          ],
          "name": "stdout"
        },
        {
          "output_type": "stream",
          "text": [
            "INFO:fbprophet:Disabling weekly seasonality. Run prophet with weekly_seasonality=True to override this.\n",
            "INFO:fbprophet:Disabling daily seasonality. Run prophet with daily_seasonality=True to override this.\n"
          ],
          "name": "stderr"
        },
        {
          "output_type": "stream",
          "text": [
            "New York, NY\n"
          ],
          "name": "stdout"
        },
        {
          "output_type": "stream",
          "text": [
            "INFO:fbprophet:Disabling weekly seasonality. Run prophet with weekly_seasonality=True to override this.\n",
            "INFO:fbprophet:Disabling daily seasonality. Run prophet with daily_seasonality=True to override this.\n"
          ],
          "name": "stderr"
        },
        {
          "output_type": "stream",
          "text": [
            "Los Angeles-Long Beach-Anaheim, CA\n"
          ],
          "name": "stdout"
        },
        {
          "output_type": "stream",
          "text": [
            "INFO:fbprophet:Disabling weekly seasonality. Run prophet with weekly_seasonality=True to override this.\n",
            "INFO:fbprophet:Disabling daily seasonality. Run prophet with daily_seasonality=True to override this.\n"
          ],
          "name": "stderr"
        },
        {
          "output_type": "stream",
          "text": [
            "Chicago, IL\n"
          ],
          "name": "stdout"
        },
        {
          "output_type": "stream",
          "text": [
            "INFO:fbprophet:Disabling weekly seasonality. Run prophet with weekly_seasonality=True to override this.\n",
            "INFO:fbprophet:Disabling daily seasonality. Run prophet with daily_seasonality=True to override this.\n"
          ],
          "name": "stderr"
        },
        {
          "output_type": "stream",
          "text": [
            "Dallas-Fort Worth, TX\n"
          ],
          "name": "stdout"
        },
        {
          "output_type": "stream",
          "text": [
            "INFO:fbprophet:Disabling weekly seasonality. Run prophet with weekly_seasonality=True to override this.\n",
            "INFO:fbprophet:Disabling daily seasonality. Run prophet with daily_seasonality=True to override this.\n"
          ],
          "name": "stderr"
        },
        {
          "output_type": "stream",
          "text": [
            "Philadelphia, PA\n"
          ],
          "name": "stdout"
        },
        {
          "output_type": "stream",
          "text": [
            "INFO:fbprophet:Disabling weekly seasonality. Run prophet with weekly_seasonality=True to override this.\n",
            "INFO:fbprophet:Disabling daily seasonality. Run prophet with daily_seasonality=True to override this.\n"
          ],
          "name": "stderr"
        },
        {
          "output_type": "stream",
          "text": [
            "Houston, TX\n"
          ],
          "name": "stdout"
        },
        {
          "output_type": "stream",
          "text": [
            "INFO:fbprophet:Disabling weekly seasonality. Run prophet with weekly_seasonality=True to override this.\n",
            "INFO:fbprophet:Disabling daily seasonality. Run prophet with daily_seasonality=True to override this.\n"
          ],
          "name": "stderr"
        },
        {
          "output_type": "stream",
          "text": [
            "Washington, DC\n"
          ],
          "name": "stdout"
        },
        {
          "output_type": "stream",
          "text": [
            "INFO:fbprophet:Disabling weekly seasonality. Run prophet with weekly_seasonality=True to override this.\n",
            "INFO:fbprophet:Disabling daily seasonality. Run prophet with daily_seasonality=True to override this.\n"
          ],
          "name": "stderr"
        },
        {
          "output_type": "stream",
          "text": [
            "Miami-Fort Lauderdale, FL\n"
          ],
          "name": "stdout"
        },
        {
          "output_type": "stream",
          "text": [
            "INFO:fbprophet:Disabling weekly seasonality. Run prophet with weekly_seasonality=True to override this.\n",
            "INFO:fbprophet:Disabling daily seasonality. Run prophet with daily_seasonality=True to override this.\n"
          ],
          "name": "stderr"
        },
        {
          "output_type": "stream",
          "text": [
            "Atlanta, GA\n"
          ],
          "name": "stdout"
        },
        {
          "output_type": "stream",
          "text": [
            "INFO:fbprophet:Disabling weekly seasonality. Run prophet with weekly_seasonality=True to override this.\n",
            "INFO:fbprophet:Disabling daily seasonality. Run prophet with daily_seasonality=True to override this.\n"
          ],
          "name": "stderr"
        },
        {
          "output_type": "stream",
          "text": [
            "Boston, MA\n"
          ],
          "name": "stdout"
        },
        {
          "output_type": "stream",
          "text": [
            "INFO:fbprophet:Disabling weekly seasonality. Run prophet with weekly_seasonality=True to override this.\n",
            "INFO:fbprophet:Disabling daily seasonality. Run prophet with daily_seasonality=True to override this.\n"
          ],
          "name": "stderr"
        },
        {
          "output_type": "stream",
          "text": [
            "San Francisco, CA\n"
          ],
          "name": "stdout"
        },
        {
          "output_type": "stream",
          "text": [
            "INFO:fbprophet:Disabling weekly seasonality. Run prophet with weekly_seasonality=True to override this.\n",
            "INFO:fbprophet:Disabling daily seasonality. Run prophet with daily_seasonality=True to override this.\n"
          ],
          "name": "stderr"
        },
        {
          "output_type": "stream",
          "text": [
            "Detroit, MI\n"
          ],
          "name": "stdout"
        },
        {
          "output_type": "stream",
          "text": [
            "INFO:fbprophet:Disabling weekly seasonality. Run prophet with weekly_seasonality=True to override this.\n",
            "INFO:fbprophet:Disabling daily seasonality. Run prophet with daily_seasonality=True to override this.\n"
          ],
          "name": "stderr"
        },
        {
          "output_type": "stream",
          "text": [
            "Riverside, CA\n"
          ],
          "name": "stdout"
        },
        {
          "output_type": "stream",
          "text": [
            "INFO:fbprophet:Disabling weekly seasonality. Run prophet with weekly_seasonality=True to override this.\n",
            "INFO:fbprophet:Disabling daily seasonality. Run prophet with daily_seasonality=True to override this.\n"
          ],
          "name": "stderr"
        },
        {
          "output_type": "stream",
          "text": [
            "Phoenix, AZ\n"
          ],
          "name": "stdout"
        },
        {
          "output_type": "stream",
          "text": [
            "INFO:fbprophet:Disabling weekly seasonality. Run prophet with weekly_seasonality=True to override this.\n",
            "INFO:fbprophet:Disabling daily seasonality. Run prophet with daily_seasonality=True to override this.\n"
          ],
          "name": "stderr"
        },
        {
          "output_type": "stream",
          "text": [
            "Seattle, WA\n"
          ],
          "name": "stdout"
        },
        {
          "output_type": "stream",
          "text": [
            "INFO:fbprophet:Disabling weekly seasonality. Run prophet with weekly_seasonality=True to override this.\n",
            "INFO:fbprophet:Disabling daily seasonality. Run prophet with daily_seasonality=True to override this.\n"
          ],
          "name": "stderr"
        },
        {
          "output_type": "stream",
          "text": [
            "Minneapolis-St Paul, MN\n"
          ],
          "name": "stdout"
        },
        {
          "output_type": "stream",
          "text": [
            "INFO:fbprophet:Disabling weekly seasonality. Run prophet with weekly_seasonality=True to override this.\n",
            "INFO:fbprophet:Disabling daily seasonality. Run prophet with daily_seasonality=True to override this.\n"
          ],
          "name": "stderr"
        },
        {
          "output_type": "stream",
          "text": [
            "San Diego, CA\n"
          ],
          "name": "stdout"
        },
        {
          "output_type": "stream",
          "text": [
            "INFO:fbprophet:Disabling weekly seasonality. Run prophet with weekly_seasonality=True to override this.\n",
            "INFO:fbprophet:Disabling daily seasonality. Run prophet with daily_seasonality=True to override this.\n"
          ],
          "name": "stderr"
        },
        {
          "output_type": "stream",
          "text": [
            "St. Louis, MO\n"
          ],
          "name": "stdout"
        },
        {
          "output_type": "stream",
          "text": [
            "INFO:fbprophet:Disabling weekly seasonality. Run prophet with weekly_seasonality=True to override this.\n",
            "INFO:fbprophet:Disabling daily seasonality. Run prophet with daily_seasonality=True to override this.\n"
          ],
          "name": "stderr"
        },
        {
          "output_type": "stream",
          "text": [
            "Tampa, FL\n"
          ],
          "name": "stdout"
        },
        {
          "output_type": "stream",
          "text": [
            "INFO:fbprophet:Disabling weekly seasonality. Run prophet with weekly_seasonality=True to override this.\n",
            "INFO:fbprophet:Disabling daily seasonality. Run prophet with daily_seasonality=True to override this.\n"
          ],
          "name": "stderr"
        },
        {
          "output_type": "stream",
          "text": [
            "Baltimore, MD\n"
          ],
          "name": "stdout"
        },
        {
          "output_type": "stream",
          "text": [
            "INFO:fbprophet:Disabling weekly seasonality. Run prophet with weekly_seasonality=True to override this.\n",
            "INFO:fbprophet:Disabling daily seasonality. Run prophet with daily_seasonality=True to override this.\n"
          ],
          "name": "stderr"
        },
        {
          "output_type": "stream",
          "text": [
            "Denver, CO\n"
          ],
          "name": "stdout"
        },
        {
          "output_type": "stream",
          "text": [
            "INFO:fbprophet:Disabling weekly seasonality. Run prophet with weekly_seasonality=True to override this.\n",
            "INFO:fbprophet:Disabling daily seasonality. Run prophet with daily_seasonality=True to override this.\n"
          ],
          "name": "stderr"
        },
        {
          "output_type": "stream",
          "text": [
            "Pittsburgh, PA\n"
          ],
          "name": "stdout"
        },
        {
          "output_type": "stream",
          "text": [
            "INFO:fbprophet:Disabling weekly seasonality. Run prophet with weekly_seasonality=True to override this.\n",
            "INFO:fbprophet:Disabling daily seasonality. Run prophet with daily_seasonality=True to override this.\n"
          ],
          "name": "stderr"
        },
        {
          "output_type": "stream",
          "text": [
            "Portland, OR\n"
          ],
          "name": "stdout"
        },
        {
          "output_type": "stream",
          "text": [
            "INFO:fbprophet:Disabling weekly seasonality. Run prophet with weekly_seasonality=True to override this.\n",
            "INFO:fbprophet:Disabling daily seasonality. Run prophet with daily_seasonality=True to override this.\n"
          ],
          "name": "stderr"
        },
        {
          "output_type": "stream",
          "text": [
            "Charlotte, NC\n"
          ],
          "name": "stdout"
        },
        {
          "output_type": "stream",
          "text": [
            "INFO:fbprophet:Disabling weekly seasonality. Run prophet with weekly_seasonality=True to override this.\n",
            "INFO:fbprophet:Disabling daily seasonality. Run prophet with daily_seasonality=True to override this.\n"
          ],
          "name": "stderr"
        },
        {
          "output_type": "stream",
          "text": [
            "Sacramento, CA\n"
          ],
          "name": "stdout"
        },
        {
          "output_type": "stream",
          "text": [
            "INFO:fbprophet:Disabling weekly seasonality. Run prophet with weekly_seasonality=True to override this.\n",
            "INFO:fbprophet:Disabling daily seasonality. Run prophet with daily_seasonality=True to override this.\n"
          ],
          "name": "stderr"
        },
        {
          "output_type": "stream",
          "text": [
            "San Antonio, TX\n"
          ],
          "name": "stdout"
        },
        {
          "output_type": "stream",
          "text": [
            "INFO:fbprophet:Disabling weekly seasonality. Run prophet with weekly_seasonality=True to override this.\n",
            "INFO:fbprophet:Disabling daily seasonality. Run prophet with daily_seasonality=True to override this.\n"
          ],
          "name": "stderr"
        },
        {
          "output_type": "stream",
          "text": [
            "Orlando, FL\n"
          ],
          "name": "stdout"
        },
        {
          "output_type": "stream",
          "text": [
            "INFO:fbprophet:Disabling weekly seasonality. Run prophet with weekly_seasonality=True to override this.\n",
            "INFO:fbprophet:Disabling daily seasonality. Run prophet with daily_seasonality=True to override this.\n"
          ],
          "name": "stderr"
        },
        {
          "output_type": "stream",
          "text": [
            "Cincinnati, OH\n"
          ],
          "name": "stdout"
        },
        {
          "output_type": "stream",
          "text": [
            "INFO:fbprophet:Disabling weekly seasonality. Run prophet with weekly_seasonality=True to override this.\n",
            "INFO:fbprophet:Disabling daily seasonality. Run prophet with daily_seasonality=True to override this.\n"
          ],
          "name": "stderr"
        },
        {
          "output_type": "stream",
          "text": [
            "Cleveland, OH\n"
          ],
          "name": "stdout"
        },
        {
          "output_type": "stream",
          "text": [
            "INFO:fbprophet:Disabling weekly seasonality. Run prophet with weekly_seasonality=True to override this.\n",
            "INFO:fbprophet:Disabling daily seasonality. Run prophet with daily_seasonality=True to override this.\n"
          ],
          "name": "stderr"
        },
        {
          "output_type": "stream",
          "text": [
            "Kansas City, MO\n"
          ],
          "name": "stdout"
        },
        {
          "output_type": "stream",
          "text": [
            "INFO:fbprophet:Disabling weekly seasonality. Run prophet with weekly_seasonality=True to override this.\n",
            "INFO:fbprophet:Disabling daily seasonality. Run prophet with daily_seasonality=True to override this.\n"
          ],
          "name": "stderr"
        },
        {
          "output_type": "stream",
          "text": [
            "Las Vegas, NV\n"
          ],
          "name": "stdout"
        },
        {
          "output_type": "stream",
          "text": [
            "INFO:fbprophet:Disabling weekly seasonality. Run prophet with weekly_seasonality=True to override this.\n",
            "INFO:fbprophet:Disabling daily seasonality. Run prophet with daily_seasonality=True to override this.\n"
          ],
          "name": "stderr"
        },
        {
          "output_type": "stream",
          "text": [
            "Columbus, OH\n"
          ],
          "name": "stdout"
        },
        {
          "output_type": "stream",
          "text": [
            "INFO:fbprophet:Disabling weekly seasonality. Run prophet with weekly_seasonality=True to override this.\n",
            "INFO:fbprophet:Disabling daily seasonality. Run prophet with daily_seasonality=True to override this.\n"
          ],
          "name": "stderr"
        },
        {
          "output_type": "stream",
          "text": [
            "Indianapolis, IN\n"
          ],
          "name": "stdout"
        },
        {
          "output_type": "stream",
          "text": [
            "INFO:fbprophet:Disabling weekly seasonality. Run prophet with weekly_seasonality=True to override this.\n",
            "INFO:fbprophet:Disabling daily seasonality. Run prophet with daily_seasonality=True to override this.\n"
          ],
          "name": "stderr"
        },
        {
          "output_type": "stream",
          "text": [
            "San Jose, CA\n"
          ],
          "name": "stdout"
        },
        {
          "output_type": "stream",
          "text": [
            "INFO:fbprophet:Disabling weekly seasonality. Run prophet with weekly_seasonality=True to override this.\n",
            "INFO:fbprophet:Disabling daily seasonality. Run prophet with daily_seasonality=True to override this.\n"
          ],
          "name": "stderr"
        },
        {
          "output_type": "stream",
          "text": [
            "Austin, TX\n"
          ],
          "name": "stdout"
        },
        {
          "output_type": "stream",
          "text": [
            "INFO:fbprophet:Disabling weekly seasonality. Run prophet with weekly_seasonality=True to override this.\n",
            "INFO:fbprophet:Disabling daily seasonality. Run prophet with daily_seasonality=True to override this.\n"
          ],
          "name": "stderr"
        },
        {
          "output_type": "stream",
          "text": [
            "Virginia Beach, VA\n"
          ],
          "name": "stdout"
        },
        {
          "output_type": "stream",
          "text": [
            "INFO:fbprophet:Disabling weekly seasonality. Run prophet with weekly_seasonality=True to override this.\n",
            "INFO:fbprophet:Disabling daily seasonality. Run prophet with daily_seasonality=True to override this.\n"
          ],
          "name": "stderr"
        },
        {
          "output_type": "stream",
          "text": [
            "Nashville, TN\n"
          ],
          "name": "stdout"
        },
        {
          "output_type": "stream",
          "text": [
            "INFO:fbprophet:Disabling weekly seasonality. Run prophet with weekly_seasonality=True to override this.\n",
            "INFO:fbprophet:Disabling daily seasonality. Run prophet with daily_seasonality=True to override this.\n"
          ],
          "name": "stderr"
        },
        {
          "output_type": "stream",
          "text": [
            "Providence, RI\n"
          ],
          "name": "stdout"
        },
        {
          "output_type": "stream",
          "text": [
            "INFO:fbprophet:Disabling weekly seasonality. Run prophet with weekly_seasonality=True to override this.\n",
            "INFO:fbprophet:Disabling daily seasonality. Run prophet with daily_seasonality=True to override this.\n"
          ],
          "name": "stderr"
        },
        {
          "output_type": "stream",
          "text": [
            "Milwaukee, WI\n"
          ],
          "name": "stdout"
        },
        {
          "output_type": "stream",
          "text": [
            "INFO:fbprophet:Disabling weekly seasonality. Run prophet with weekly_seasonality=True to override this.\n",
            "INFO:fbprophet:Disabling daily seasonality. Run prophet with daily_seasonality=True to override this.\n"
          ],
          "name": "stderr"
        },
        {
          "output_type": "stream",
          "text": [
            "Jacksonville, FL\n"
          ],
          "name": "stdout"
        },
        {
          "output_type": "stream",
          "text": [
            "INFO:fbprophet:Disabling weekly seasonality. Run prophet with weekly_seasonality=True to override this.\n",
            "INFO:fbprophet:Disabling daily seasonality. Run prophet with daily_seasonality=True to override this.\n"
          ],
          "name": "stderr"
        },
        {
          "output_type": "stream",
          "text": [
            "Memphis, TN\n"
          ],
          "name": "stdout"
        },
        {
          "output_type": "stream",
          "text": [
            "INFO:fbprophet:Disabling weekly seasonality. Run prophet with weekly_seasonality=True to override this.\n",
            "INFO:fbprophet:Disabling daily seasonality. Run prophet with daily_seasonality=True to override this.\n"
          ],
          "name": "stderr"
        },
        {
          "output_type": "stream",
          "text": [
            "Oklahoma City, OK\n"
          ],
          "name": "stdout"
        },
        {
          "output_type": "stream",
          "text": [
            "INFO:fbprophet:Disabling weekly seasonality. Run prophet with weekly_seasonality=True to override this.\n",
            "INFO:fbprophet:Disabling daily seasonality. Run prophet with daily_seasonality=True to override this.\n"
          ],
          "name": "stderr"
        },
        {
          "output_type": "stream",
          "text": [
            "Louisville-Jefferson County, KY\n"
          ],
          "name": "stdout"
        },
        {
          "output_type": "stream",
          "text": [
            "INFO:fbprophet:Disabling weekly seasonality. Run prophet with weekly_seasonality=True to override this.\n",
            "INFO:fbprophet:Disabling daily seasonality. Run prophet with daily_seasonality=True to override this.\n"
          ],
          "name": "stderr"
        },
        {
          "output_type": "stream",
          "text": [
            "Hartford, CT\n"
          ],
          "name": "stdout"
        },
        {
          "output_type": "stream",
          "text": [
            "INFO:fbprophet:Disabling weekly seasonality. Run prophet with weekly_seasonality=True to override this.\n",
            "INFO:fbprophet:Disabling daily seasonality. Run prophet with daily_seasonality=True to override this.\n"
          ],
          "name": "stderr"
        },
        {
          "output_type": "stream",
          "text": [
            "Richmond, VA\n"
          ],
          "name": "stdout"
        },
        {
          "output_type": "stream",
          "text": [
            "INFO:fbprophet:Disabling weekly seasonality. Run prophet with weekly_seasonality=True to override this.\n",
            "INFO:fbprophet:Disabling daily seasonality. Run prophet with daily_seasonality=True to override this.\n"
          ],
          "name": "stderr"
        },
        {
          "output_type": "stream",
          "text": [
            "New Orleans, LA\n"
          ],
          "name": "stdout"
        },
        {
          "output_type": "stream",
          "text": [
            "INFO:fbprophet:Disabling weekly seasonality. Run prophet with weekly_seasonality=True to override this.\n",
            "INFO:fbprophet:Disabling daily seasonality. Run prophet with daily_seasonality=True to override this.\n"
          ],
          "name": "stderr"
        },
        {
          "output_type": "stream",
          "text": [
            "Buffalo, NY\n"
          ],
          "name": "stdout"
        },
        {
          "output_type": "stream",
          "text": [
            "INFO:fbprophet:Disabling weekly seasonality. Run prophet with weekly_seasonality=True to override this.\n",
            "INFO:fbprophet:Disabling daily seasonality. Run prophet with daily_seasonality=True to override this.\n"
          ],
          "name": "stderr"
        },
        {
          "output_type": "stream",
          "text": [
            "Raleigh, NC\n"
          ],
          "name": "stdout"
        },
        {
          "output_type": "stream",
          "text": [
            "INFO:fbprophet:Disabling weekly seasonality. Run prophet with weekly_seasonality=True to override this.\n",
            "INFO:fbprophet:Disabling daily seasonality. Run prophet with daily_seasonality=True to override this.\n"
          ],
          "name": "stderr"
        },
        {
          "output_type": "stream",
          "text": [
            "Birmingham, AL\n"
          ],
          "name": "stdout"
        },
        {
          "output_type": "stream",
          "text": [
            "INFO:fbprophet:Disabling weekly seasonality. Run prophet with weekly_seasonality=True to override this.\n",
            "INFO:fbprophet:Disabling daily seasonality. Run prophet with daily_seasonality=True to override this.\n"
          ],
          "name": "stderr"
        },
        {
          "output_type": "stream",
          "text": [
            "Salt Lake City, UT\n"
          ],
          "name": "stdout"
        },
        {
          "output_type": "stream",
          "text": [
            "INFO:fbprophet:Disabling weekly seasonality. Run prophet with weekly_seasonality=True to override this.\n",
            "INFO:fbprophet:Disabling daily seasonality. Run prophet with daily_seasonality=True to override this.\n"
          ],
          "name": "stderr"
        },
        {
          "output_type": "stream",
          "text": [
            "Rochester, NY\n"
          ],
          "name": "stdout"
        },
        {
          "output_type": "stream",
          "text": [
            "INFO:fbprophet:Disabling weekly seasonality. Run prophet with weekly_seasonality=True to override this.\n",
            "INFO:fbprophet:Disabling daily seasonality. Run prophet with daily_seasonality=True to override this.\n"
          ],
          "name": "stderr"
        },
        {
          "output_type": "stream",
          "text": [
            "Grand Rapids, MI\n"
          ],
          "name": "stdout"
        },
        {
          "output_type": "stream",
          "text": [
            "INFO:fbprophet:Disabling weekly seasonality. Run prophet with weekly_seasonality=True to override this.\n",
            "INFO:fbprophet:Disabling daily seasonality. Run prophet with daily_seasonality=True to override this.\n"
          ],
          "name": "stderr"
        },
        {
          "output_type": "stream",
          "text": [
            "Tucson, AZ\n"
          ],
          "name": "stdout"
        },
        {
          "output_type": "stream",
          "text": [
            "INFO:fbprophet:Disabling weekly seasonality. Run prophet with weekly_seasonality=True to override this.\n",
            "INFO:fbprophet:Disabling daily seasonality. Run prophet with daily_seasonality=True to override this.\n"
          ],
          "name": "stderr"
        },
        {
          "output_type": "stream",
          "text": [
            "Urban Honolulu, HI\n"
          ],
          "name": "stdout"
        },
        {
          "output_type": "stream",
          "text": [
            "INFO:fbprophet:Disabling weekly seasonality. Run prophet with weekly_seasonality=True to override this.\n",
            "INFO:fbprophet:Disabling daily seasonality. Run prophet with daily_seasonality=True to override this.\n"
          ],
          "name": "stderr"
        },
        {
          "output_type": "stream",
          "text": [
            "Tulsa, OK\n"
          ],
          "name": "stdout"
        },
        {
          "output_type": "stream",
          "text": [
            "INFO:fbprophet:Disabling weekly seasonality. Run prophet with weekly_seasonality=True to override this.\n",
            "INFO:fbprophet:Disabling daily seasonality. Run prophet with daily_seasonality=True to override this.\n"
          ],
          "name": "stderr"
        },
        {
          "output_type": "stream",
          "text": [
            "Fresno, CA\n"
          ],
          "name": "stdout"
        },
        {
          "output_type": "stream",
          "text": [
            "INFO:fbprophet:Disabling weekly seasonality. Run prophet with weekly_seasonality=True to override this.\n",
            "INFO:fbprophet:Disabling daily seasonality. Run prophet with daily_seasonality=True to override this.\n"
          ],
          "name": "stderr"
        },
        {
          "output_type": "stream",
          "text": [
            "Worcester, MA\n"
          ],
          "name": "stdout"
        },
        {
          "output_type": "stream",
          "text": [
            "INFO:fbprophet:Disabling weekly seasonality. Run prophet with weekly_seasonality=True to override this.\n",
            "INFO:fbprophet:Disabling daily seasonality. Run prophet with daily_seasonality=True to override this.\n"
          ],
          "name": "stderr"
        },
        {
          "output_type": "stream",
          "text": [
            "Stamford, CT\n"
          ],
          "name": "stdout"
        },
        {
          "output_type": "stream",
          "text": [
            "INFO:fbprophet:Disabling weekly seasonality. Run prophet with weekly_seasonality=True to override this.\n",
            "INFO:fbprophet:Disabling daily seasonality. Run prophet with daily_seasonality=True to override this.\n"
          ],
          "name": "stderr"
        },
        {
          "output_type": "stream",
          "text": [
            "Albuquerque, NM\n"
          ],
          "name": "stdout"
        },
        {
          "output_type": "stream",
          "text": [
            "INFO:fbprophet:Disabling weekly seasonality. Run prophet with weekly_seasonality=True to override this.\n",
            "INFO:fbprophet:Disabling daily seasonality. Run prophet with daily_seasonality=True to override this.\n"
          ],
          "name": "stderr"
        },
        {
          "output_type": "stream",
          "text": [
            "Albany, NY\n"
          ],
          "name": "stdout"
        },
        {
          "output_type": "stream",
          "text": [
            "INFO:fbprophet:Disabling weekly seasonality. Run prophet with weekly_seasonality=True to override this.\n",
            "INFO:fbprophet:Disabling daily seasonality. Run prophet with daily_seasonality=True to override this.\n"
          ],
          "name": "stderr"
        },
        {
          "output_type": "stream",
          "text": [
            "Omaha, NE\n"
          ],
          "name": "stdout"
        },
        {
          "output_type": "stream",
          "text": [
            "INFO:fbprophet:Disabling weekly seasonality. Run prophet with weekly_seasonality=True to override this.\n",
            "INFO:fbprophet:Disabling daily seasonality. Run prophet with daily_seasonality=True to override this.\n"
          ],
          "name": "stderr"
        },
        {
          "output_type": "stream",
          "text": [
            "New Haven, CT\n"
          ],
          "name": "stdout"
        },
        {
          "output_type": "stream",
          "text": [
            "INFO:fbprophet:Disabling weekly seasonality. Run prophet with weekly_seasonality=True to override this.\n",
            "INFO:fbprophet:Disabling daily seasonality. Run prophet with daily_seasonality=True to override this.\n"
          ],
          "name": "stderr"
        },
        {
          "output_type": "stream",
          "text": [
            "Bakersfield, CA\n"
          ],
          "name": "stdout"
        },
        {
          "output_type": "stream",
          "text": [
            "INFO:fbprophet:Disabling weekly seasonality. Run prophet with weekly_seasonality=True to override this.\n",
            "INFO:fbprophet:Disabling daily seasonality. Run prophet with daily_seasonality=True to override this.\n"
          ],
          "name": "stderr"
        },
        {
          "output_type": "stream",
          "text": [
            "Knoxville, TN\n"
          ],
          "name": "stdout"
        },
        {
          "output_type": "stream",
          "text": [
            "INFO:fbprophet:Disabling weekly seasonality. Run prophet with weekly_seasonality=True to override this.\n",
            "INFO:fbprophet:Disabling daily seasonality. Run prophet with daily_seasonality=True to override this.\n"
          ],
          "name": "stderr"
        },
        {
          "output_type": "stream",
          "text": [
            "Greenville, SC\n"
          ],
          "name": "stdout"
        },
        {
          "output_type": "stream",
          "text": [
            "INFO:fbprophet:Disabling weekly seasonality. Run prophet with weekly_seasonality=True to override this.\n",
            "INFO:fbprophet:Disabling daily seasonality. Run prophet with daily_seasonality=True to override this.\n"
          ],
          "name": "stderr"
        },
        {
          "output_type": "stream",
          "text": [
            "Ventura, CA\n"
          ],
          "name": "stdout"
        },
        {
          "output_type": "stream",
          "text": [
            "INFO:fbprophet:Disabling weekly seasonality. Run prophet with weekly_seasonality=True to override this.\n",
            "INFO:fbprophet:Disabling daily seasonality. Run prophet with daily_seasonality=True to override this.\n"
          ],
          "name": "stderr"
        },
        {
          "output_type": "stream",
          "text": [
            "Allentown, PA\n"
          ],
          "name": "stdout"
        },
        {
          "output_type": "stream",
          "text": [
            "INFO:fbprophet:Disabling weekly seasonality. Run prophet with weekly_seasonality=True to override this.\n",
            "INFO:fbprophet:Disabling daily seasonality. Run prophet with daily_seasonality=True to override this.\n"
          ],
          "name": "stderr"
        },
        {
          "output_type": "stream",
          "text": [
            "El Paso, TX\n"
          ],
          "name": "stdout"
        },
        {
          "output_type": "stream",
          "text": [
            "INFO:fbprophet:Disabling weekly seasonality. Run prophet with weekly_seasonality=True to override this.\n",
            "INFO:fbprophet:Disabling daily seasonality. Run prophet with daily_seasonality=True to override this.\n"
          ],
          "name": "stderr"
        },
        {
          "output_type": "stream",
          "text": [
            "Baton Rouge, LA\n"
          ],
          "name": "stdout"
        },
        {
          "output_type": "stream",
          "text": [
            "INFO:fbprophet:Disabling weekly seasonality. Run prophet with weekly_seasonality=True to override this.\n",
            "INFO:fbprophet:Disabling daily seasonality. Run prophet with daily_seasonality=True to override this.\n"
          ],
          "name": "stderr"
        },
        {
          "output_type": "stream",
          "text": [
            "Dayton, OH\n"
          ],
          "name": "stdout"
        },
        {
          "output_type": "stream",
          "text": [
            "INFO:fbprophet:Disabling weekly seasonality. Run prophet with weekly_seasonality=True to override this.\n",
            "INFO:fbprophet:Disabling daily seasonality. Run prophet with daily_seasonality=True to override this.\n"
          ],
          "name": "stderr"
        },
        {
          "output_type": "stream",
          "text": [
            "McAllen, TX\n"
          ],
          "name": "stdout"
        },
        {
          "output_type": "stream",
          "text": [
            "INFO:fbprophet:Disabling weekly seasonality. Run prophet with weekly_seasonality=True to override this.\n",
            "INFO:fbprophet:Disabling daily seasonality. Run prophet with daily_seasonality=True to override this.\n"
          ],
          "name": "stderr"
        },
        {
          "output_type": "stream",
          "text": [
            "Columbia, SC\n"
          ],
          "name": "stdout"
        },
        {
          "output_type": "stream",
          "text": [
            "INFO:fbprophet:Disabling weekly seasonality. Run prophet with weekly_seasonality=True to override this.\n",
            "INFO:fbprophet:Disabling daily seasonality. Run prophet with daily_seasonality=True to override this.\n"
          ],
          "name": "stderr"
        },
        {
          "output_type": "stream",
          "text": [
            "Greensboro, NC\n"
          ],
          "name": "stdout"
        },
        {
          "output_type": "stream",
          "text": [
            "INFO:fbprophet:Disabling weekly seasonality. Run prophet with weekly_seasonality=True to override this.\n",
            "INFO:fbprophet:Disabling daily seasonality. Run prophet with daily_seasonality=True to override this.\n"
          ],
          "name": "stderr"
        },
        {
          "output_type": "stream",
          "text": [
            "Akron, OH\n"
          ],
          "name": "stdout"
        },
        {
          "output_type": "stream",
          "text": [
            "INFO:fbprophet:Disabling weekly seasonality. Run prophet with weekly_seasonality=True to override this.\n",
            "INFO:fbprophet:Disabling daily seasonality. Run prophet with daily_seasonality=True to override this.\n"
          ],
          "name": "stderr"
        },
        {
          "output_type": "stream",
          "text": [
            "North Port-Sarasota-Bradenton, FL\n"
          ],
          "name": "stdout"
        },
        {
          "output_type": "stream",
          "text": [
            "INFO:fbprophet:Disabling weekly seasonality. Run prophet with weekly_seasonality=True to override this.\n",
            "INFO:fbprophet:Disabling daily seasonality. Run prophet with daily_seasonality=True to override this.\n"
          ],
          "name": "stderr"
        },
        {
          "output_type": "stream",
          "text": [
            "Little Rock, AR\n"
          ],
          "name": "stdout"
        },
        {
          "output_type": "stream",
          "text": [
            "INFO:fbprophet:Disabling weekly seasonality. Run prophet with weekly_seasonality=True to override this.\n",
            "INFO:fbprophet:Disabling daily seasonality. Run prophet with daily_seasonality=True to override this.\n"
          ],
          "name": "stderr"
        },
        {
          "output_type": "stream",
          "text": [
            "Stockton, CA\n"
          ],
          "name": "stdout"
        },
        {
          "output_type": "stream",
          "text": [
            "INFO:fbprophet:Disabling weekly seasonality. Run prophet with weekly_seasonality=True to override this.\n",
            "INFO:fbprophet:Disabling daily seasonality. Run prophet with daily_seasonality=True to override this.\n"
          ],
          "name": "stderr"
        },
        {
          "output_type": "stream",
          "text": [
            "Charleston, SC\n"
          ],
          "name": "stdout"
        },
        {
          "output_type": "stream",
          "text": [
            "INFO:fbprophet:Disabling weekly seasonality. Run prophet with weekly_seasonality=True to override this.\n",
            "INFO:fbprophet:Disabling daily seasonality. Run prophet with daily_seasonality=True to override this.\n"
          ],
          "name": "stderr"
        },
        {
          "output_type": "stream",
          "text": [
            "Syracuse, NY\n"
          ],
          "name": "stdout"
        },
        {
          "output_type": "stream",
          "text": [
            "INFO:fbprophet:Disabling weekly seasonality. Run prophet with weekly_seasonality=True to override this.\n",
            "INFO:fbprophet:Disabling daily seasonality. Run prophet with daily_seasonality=True to override this.\n"
          ],
          "name": "stderr"
        },
        {
          "output_type": "stream",
          "text": [
            "Colorado Springs, CO\n"
          ],
          "name": "stdout"
        },
        {
          "output_type": "stream",
          "text": [
            "INFO:fbprophet:Disabling weekly seasonality. Run prophet with weekly_seasonality=True to override this.\n",
            "INFO:fbprophet:Disabling daily seasonality. Run prophet with daily_seasonality=True to override this.\n"
          ],
          "name": "stderr"
        },
        {
          "output_type": "stream",
          "text": [
            "Winston-Salem, NC\n"
          ],
          "name": "stdout"
        },
        {
          "output_type": "stream",
          "text": [
            "INFO:fbprophet:Disabling weekly seasonality. Run prophet with weekly_seasonality=True to override this.\n",
            "INFO:fbprophet:Disabling daily seasonality. Run prophet with daily_seasonality=True to override this.\n"
          ],
          "name": "stderr"
        },
        {
          "output_type": "stream",
          "text": [
            "Wichita, KS\n"
          ],
          "name": "stdout"
        },
        {
          "output_type": "stream",
          "text": [
            "INFO:fbprophet:Disabling weekly seasonality. Run prophet with weekly_seasonality=True to override this.\n",
            "INFO:fbprophet:Disabling daily seasonality. Run prophet with daily_seasonality=True to override this.\n"
          ],
          "name": "stderr"
        },
        {
          "output_type": "stream",
          "text": [
            "Springfield, MA\n"
          ],
          "name": "stdout"
        },
        {
          "output_type": "stream",
          "text": [
            "INFO:fbprophet:Disabling weekly seasonality. Run prophet with weekly_seasonality=True to override this.\n",
            "INFO:fbprophet:Disabling daily seasonality. Run prophet with daily_seasonality=True to override this.\n"
          ],
          "name": "stderr"
        },
        {
          "output_type": "stream",
          "text": [
            "Fort Myers, FL\n"
          ],
          "name": "stdout"
        },
        {
          "output_type": "stream",
          "text": [
            "INFO:fbprophet:Disabling weekly seasonality. Run prophet with weekly_seasonality=True to override this.\n",
            "INFO:fbprophet:Disabling daily seasonality. Run prophet with daily_seasonality=True to override this.\n"
          ],
          "name": "stderr"
        },
        {
          "output_type": "stream",
          "text": [
            "Boise City, ID\n"
          ],
          "name": "stdout"
        },
        {
          "output_type": "stream",
          "text": [
            "INFO:fbprophet:Disabling weekly seasonality. Run prophet with weekly_seasonality=True to override this.\n",
            "INFO:fbprophet:Disabling daily seasonality. Run prophet with daily_seasonality=True to override this.\n"
          ],
          "name": "stderr"
        },
        {
          "output_type": "stream",
          "text": [
            "Toledo, OH\n"
          ],
          "name": "stdout"
        },
        {
          "output_type": "stream",
          "text": [
            "INFO:fbprophet:Disabling weekly seasonality. Run prophet with weekly_seasonality=True to override this.\n",
            "INFO:fbprophet:Disabling daily seasonality. Run prophet with daily_seasonality=True to override this.\n"
          ],
          "name": "stderr"
        },
        {
          "output_type": "stream",
          "text": [
            "Madison, WI\n"
          ],
          "name": "stdout"
        },
        {
          "output_type": "stream",
          "text": [
            "INFO:fbprophet:Disabling weekly seasonality. Run prophet with weekly_seasonality=True to override this.\n",
            "INFO:fbprophet:Disabling daily seasonality. Run prophet with daily_seasonality=True to override this.\n"
          ],
          "name": "stderr"
        },
        {
          "output_type": "stream",
          "text": [
            "Lakeland, FL\n"
          ],
          "name": "stdout"
        },
        {
          "output_type": "stream",
          "text": [
            "INFO:fbprophet:Disabling weekly seasonality. Run prophet with weekly_seasonality=True to override this.\n",
            "INFO:fbprophet:Disabling daily seasonality. Run prophet with daily_seasonality=True to override this.\n"
          ],
          "name": "stderr"
        },
        {
          "output_type": "stream",
          "text": [
            "Ogden, UT\n"
          ],
          "name": "stdout"
        },
        {
          "output_type": "stream",
          "text": [
            "INFO:fbprophet:Disabling weekly seasonality. Run prophet with weekly_seasonality=True to override this.\n",
            "INFO:fbprophet:Disabling daily seasonality. Run prophet with daily_seasonality=True to override this.\n"
          ],
          "name": "stderr"
        },
        {
          "output_type": "stream",
          "text": [
            "Daytona Beach, FL\n"
          ],
          "name": "stdout"
        },
        {
          "output_type": "stream",
          "text": [
            "INFO:fbprophet:Disabling weekly seasonality. Run prophet with weekly_seasonality=True to override this.\n",
            "INFO:fbprophet:Disabling daily seasonality. Run prophet with daily_seasonality=True to override this.\n"
          ],
          "name": "stderr"
        },
        {
          "output_type": "stream",
          "text": [
            "Des Moines, IA\n"
          ],
          "name": "stdout"
        },
        {
          "output_type": "stream",
          "text": [
            "INFO:fbprophet:Disabling weekly seasonality. Run prophet with weekly_seasonality=True to override this.\n",
            "INFO:fbprophet:Disabling daily seasonality. Run prophet with daily_seasonality=True to override this.\n"
          ],
          "name": "stderr"
        },
        {
          "output_type": "stream",
          "text": [
            "Jackson, MS\n"
          ],
          "name": "stdout"
        },
        {
          "output_type": "stream",
          "text": [
            "INFO:fbprophet:Disabling weekly seasonality. Run prophet with weekly_seasonality=True to override this.\n",
            "INFO:fbprophet:Disabling daily seasonality. Run prophet with daily_seasonality=True to override this.\n"
          ],
          "name": "stderr"
        },
        {
          "output_type": "stream",
          "text": [
            "Youngstown, OH\n"
          ],
          "name": "stdout"
        },
        {
          "output_type": "stream",
          "text": [
            "INFO:fbprophet:Disabling weekly seasonality. Run prophet with weekly_seasonality=True to override this.\n",
            "INFO:fbprophet:Disabling daily seasonality. Run prophet with daily_seasonality=True to override this.\n"
          ],
          "name": "stderr"
        },
        {
          "output_type": "stream",
          "text": [
            "Augusta, GA\n"
          ],
          "name": "stdout"
        },
        {
          "output_type": "stream",
          "text": [
            "INFO:fbprophet:Disabling weekly seasonality. Run prophet with weekly_seasonality=True to override this.\n",
            "INFO:fbprophet:Disabling daily seasonality. Run prophet with daily_seasonality=True to override this.\n"
          ],
          "name": "stderr"
        },
        {
          "output_type": "stream",
          "text": [
            "Scranton, PA\n"
          ],
          "name": "stdout"
        },
        {
          "output_type": "stream",
          "text": [
            "INFO:fbprophet:Disabling weekly seasonality. Run prophet with weekly_seasonality=True to override this.\n",
            "INFO:fbprophet:Disabling daily seasonality. Run prophet with daily_seasonality=True to override this.\n"
          ],
          "name": "stderr"
        },
        {
          "output_type": "stream",
          "text": [
            "Harrisburg, PA\n"
          ],
          "name": "stdout"
        },
        {
          "output_type": "stream",
          "text": [
            "INFO:fbprophet:Disabling weekly seasonality. Run prophet with weekly_seasonality=True to override this.\n",
            "INFO:fbprophet:Disabling daily seasonality. Run prophet with daily_seasonality=True to override this.\n"
          ],
          "name": "stderr"
        },
        {
          "output_type": "stream",
          "text": [
            "Melbourne, FL\n"
          ],
          "name": "stdout"
        },
        {
          "output_type": "stream",
          "text": [
            "INFO:fbprophet:Disabling weekly seasonality. Run prophet with weekly_seasonality=True to override this.\n",
            "INFO:fbprophet:Disabling daily seasonality. Run prophet with daily_seasonality=True to override this.\n"
          ],
          "name": "stderr"
        },
        {
          "output_type": "stream",
          "text": [
            "Chattanooga, TN\n",
            "Spokane, WA\n"
          ],
          "name": "stdout"
        }
      ]
    },
    {
      "cell_type": "markdown",
      "metadata": {
        "id": "uVj8ybOmXbx0"
      },
      "source": [
        "**Step 5: Dump Dictionary to JSON File**"
      ]
    },
    {
      "cell_type": "code",
      "metadata": {
        "id": "j6J6V-RTYZ5a"
      },
      "source": [
        "with open('result.json', 'w') as fp:\n",
        "    json.dump(final_dictionary, fp)"
      ],
      "execution_count": null,
      "outputs": []
    },
    {
      "cell_type": "code",
      "metadata": {
        "id": "UGNmqY0qbvuX"
      },
      "source": [
        ""
      ],
      "execution_count": null,
      "outputs": []
    }
  ]
}